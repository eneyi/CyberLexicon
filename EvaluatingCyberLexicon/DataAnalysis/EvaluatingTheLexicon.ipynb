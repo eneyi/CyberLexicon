{
 "cells": [
  {
   "cell_type": "code",
   "execution_count": 1,
   "metadata": {
    "collapsed": true
   },
   "outputs": [],
   "source": [
    "import pandas as pd\n",
    "import os, re\n",
    "from nltk.stem.porter import PorterStemmer\n",
    "stemmer = PorterStemmer()\n",
    "from string import punctuation\n",
    "from random import seed\n",
    "seed(1000)"
   ]
  },
  {
   "cell_type": "code",
   "execution_count": 2,
   "metadata": {
    "collapsed": true
   },
   "outputs": [],
   "source": [
    " def removePuncs(text):\n",
    "        puncs = [i for i in punctuation]\n",
    "        for i in puncs:\n",
    "            text = text.replace(i,\"\")\n",
    "        return text\n",
    "\n",
    "\n",
    "def preProcess(text,forumwords):\n",
    "    #remove punctuations\n",
    "    text = removePuncs(text)\n",
    "\n",
    "    #split text to words\n",
    "    words = [word.strip().lower() for word in text.split()]\n",
    "    #remove stopwords and numbers\n",
    "    stops = self.stops+forumwords\n",
    "    words = [word for word in words if word not in stops and word.isalpha()]\n",
    "    #pos_tag words\n",
    "    tagged = pos_tag(words)\n",
    "    #remove unwanted tags\n",
    "    tagged = [tag for tag in tagged if tag[1] not in self.negtags]\n",
    "    words = [word[0] for word in tagged]\n",
    "    #stem words\n",
    "    words = [stemmer.stem(word) for word in words]\n",
    "    #join words to form sentence\n",
    "    sentence = \" \".join([word.strip() for word in words])\n",
    "    return sentence\n",
    "\n",
    "def rescale_0_100(x):\n",
    "    #x is a numeric vector of >1 elements\n",
    "    minimum = min(x)\n",
    "    maximum = max(x)\n",
    "    \n",
    "    scale_factor = (100-0)/(maximum-minimum)\n",
    "    scaled = [abs(((i-maximum)+100)*scale_factor) for i in x]\n",
    "    return scaled\n",
    "\n",
    "def CyberRelatedness(text, lexicon):\n",
    "    #lexicon is a dataframe of terms with their corresponding APMIS scores:columns labelled \"terms\", \"apmis\"\n",
    "    #text is a single string input of text to be measured for degree of cyber-relatedness\n",
    "    \n",
    "    #get length of text\n",
    "    words = [i.strip() for i in text.split()]\n",
    "    words = [stemmer.stem(i) for i in words]\n",
    "    \n",
    "    counter=[]\n",
    "    for word in words:\n",
    "        if len(word) > 2:\n",
    "            if word in lexicon.terms:\n",
    "                matched = lexicon.loc[lexicon['terms']==word]\n",
    "                counter.append(list(matched.scaled))\n",
    "        \n",
    "    if counter:\n",
    "        return sum([item for sublist in counter for item in sublist])/len(counter)\n",
    "    else:\n",
    "        return 0\n"
   ]
  },
  {
   "cell_type": "code",
   "execution_count": 3,
   "metadata": {
    "collapsed": true
   },
   "outputs": [],
   "source": [
    "#read in test corpus files\n",
    "basedir = \"../DataCollection/corpus\"\n",
    "files = [basedir+\"/\"+i for i in os.listdir(basedir)]"
   ]
  },
  {
   "cell_type": "code",
   "execution_count": 4,
   "metadata": {
    "collapsed": true
   },
   "outputs": [],
   "source": [
    "data = []\n",
    "for i in files:\n",
    "    try:\n",
    "        with open(i, \"r+\", encoding=\"utf-8\") as ff:\n",
    "            data.append(ff.readlines())\n",
    "        ff.close()\n",
    "    except:\n",
    "        pass"
   ]
  },
  {
   "cell_type": "code",
   "execution_count": 5,
   "metadata": {
    "collapsed": true
   },
   "outputs": [],
   "source": [
    "data = [i for i in data if len(i) ==5]"
   ]
  },
  {
   "cell_type": "code",
   "execution_count": 6,
   "metadata": {
    "collapsed": true
   },
   "outputs": [],
   "source": [
    "source = [i[0].strip() for i in data]\n",
    "category = [i[1].strip() for i in data]\n",
    "classed = [i[2].strip() for i in data]\n",
    "text = [i[4].strip() for i in data]"
   ]
  },
  {
   "cell_type": "code",
   "execution_count": 7,
   "metadata": {
    "collapsed": true
   },
   "outputs": [],
   "source": [
    "data = pd.DataFrame([source, category, classed, text]).transpose()\n",
    "data.columns = [\"source\", \"category\", \"classed\", \"text\"]"
   ]
  },
  {
   "cell_type": "code",
   "execution_count": 8,
   "metadata": {},
   "outputs": [
    {
     "data": {
      "text/html": [
       "<div>\n",
       "<style>\n",
       "    .dataframe thead tr:only-child th {\n",
       "        text-align: right;\n",
       "    }\n",
       "\n",
       "    .dataframe thead th {\n",
       "        text-align: left;\n",
       "    }\n",
       "\n",
       "    .dataframe tbody tr th {\n",
       "        vertical-align: top;\n",
       "    }\n",
       "</style>\n",
       "<table border=\"1\" class=\"dataframe\">\n",
       "  <thead>\n",
       "    <tr style=\"text-align: right;\">\n",
       "      <th></th>\n",
       "      <th>source</th>\n",
       "      <th>category</th>\n",
       "      <th>classed</th>\n",
       "      <th>text</th>\n",
       "    </tr>\n",
       "  </thead>\n",
       "  <tbody>\n",
       "    <tr>\n",
       "      <th>0</th>\n",
       "      <td>bbc</td>\n",
       "      <td>publishing</td>\n",
       "      <td>Cyber</td>\n",
       "      <td>Butlin's guest records exposed to hackers. Up ...</td>\n",
       "    </tr>\n",
       "    <tr>\n",
       "      <th>1</th>\n",
       "      <td>bbc</td>\n",
       "      <td>publishing</td>\n",
       "      <td>Cyber</td>\n",
       "      <td>US warns of supply chain cyber-attacks. Nation...</td>\n",
       "    </tr>\n",
       "    <tr>\n",
       "      <th>2</th>\n",
       "      <td>bbc</td>\n",
       "      <td>publishing</td>\n",
       "      <td>Cyber</td>\n",
       "      <td>National Counterintelligence and Security Cent...</td>\n",
       "    </tr>\n",
       "    <tr>\n",
       "      <th>3</th>\n",
       "      <td>bbc</td>\n",
       "      <td>publishing</td>\n",
       "      <td>Cyber</td>\n",
       "      <td>Home security camera recordings hijacked. Rese...</td>\n",
       "    </tr>\n",
       "    <tr>\n",
       "      <th>4</th>\n",
       "      <td>bbc</td>\n",
       "      <td>publishing</td>\n",
       "      <td>Cyber</td>\n",
       "      <td>Why is the Daily Mail's site 'not secure'?. Go...</td>\n",
       "    </tr>\n",
       "  </tbody>\n",
       "</table>\n",
       "</div>"
      ],
      "text/plain": [
       "  source    category classed  \\\n",
       "0    bbc  publishing   Cyber   \n",
       "1    bbc  publishing   Cyber   \n",
       "2    bbc  publishing   Cyber   \n",
       "3    bbc  publishing   Cyber   \n",
       "4    bbc  publishing   Cyber   \n",
       "\n",
       "                                                text  \n",
       "0  Butlin's guest records exposed to hackers. Up ...  \n",
       "1  US warns of supply chain cyber-attacks. Nation...  \n",
       "2  National Counterintelligence and Security Cent...  \n",
       "3  Home security camera recordings hijacked. Rese...  \n",
       "4  Why is the Daily Mail's site 'not secure'?. Go...  "
      ]
     },
     "execution_count": 8,
     "metadata": {},
     "output_type": "execute_result"
    }
   ],
   "source": [
    "data.head()"
   ]
  },
  {
   "cell_type": "code",
   "execution_count": 9,
   "metadata": {},
   "outputs": [
    {
     "data": {
      "text/plain": [
       "Cyber       117\n",
       "NonCyber    101\n",
       "Name: classed, dtype: int64"
      ]
     },
     "execution_count": 9,
     "metadata": {},
     "output_type": "execute_result"
    }
   ],
   "source": [
    "data['classed'].value_counts()"
   ]
  },
  {
   "cell_type": "code",
   "execution_count": 10,
   "metadata": {},
   "outputs": [
    {
     "data": {
      "text/plain": [
       "array(['bbc', 'facebook', 'hackernews', 'linkedin', 'quora', 'reddit',\n",
       "       'stackx', 'steemit'], dtype=object)"
      ]
     },
     "execution_count": 10,
     "metadata": {},
     "output_type": "execute_result"
    }
   ],
   "source": [
    "data['source'].unique()"
   ]
  },
  {
   "cell_type": "code",
   "execution_count": 11,
   "metadata": {},
   "outputs": [
    {
     "data": {
      "text/html": [
       "<div>\n",
       "<style>\n",
       "    .dataframe thead tr:only-child th {\n",
       "        text-align: right;\n",
       "    }\n",
       "\n",
       "    .dataframe thead th {\n",
       "        text-align: left;\n",
       "    }\n",
       "\n",
       "    .dataframe tbody tr th {\n",
       "        vertical-align: top;\n",
       "    }\n",
       "</style>\n",
       "<table border=\"1\" class=\"dataframe\">\n",
       "  <thead>\n",
       "    <tr style=\"text-align: right;\">\n",
       "      <th>classed</th>\n",
       "      <th>Cyber</th>\n",
       "      <th>NonCyber</th>\n",
       "    </tr>\n",
       "    <tr>\n",
       "      <th>source</th>\n",
       "      <th></th>\n",
       "      <th></th>\n",
       "    </tr>\n",
       "  </thead>\n",
       "  <tbody>\n",
       "    <tr>\n",
       "      <th>bbc</th>\n",
       "      <td>15</td>\n",
       "      <td>15</td>\n",
       "    </tr>\n",
       "    <tr>\n",
       "      <th>facebook</th>\n",
       "      <td>15</td>\n",
       "      <td>13</td>\n",
       "    </tr>\n",
       "    <tr>\n",
       "      <th>hackernews</th>\n",
       "      <td>14</td>\n",
       "      <td>0</td>\n",
       "    </tr>\n",
       "    <tr>\n",
       "      <th>linkedin</th>\n",
       "      <td>15</td>\n",
       "      <td>14</td>\n",
       "    </tr>\n",
       "    <tr>\n",
       "      <th>quora</th>\n",
       "      <td>15</td>\n",
       "      <td>15</td>\n",
       "    </tr>\n",
       "    <tr>\n",
       "      <th>reddit</th>\n",
       "      <td>15</td>\n",
       "      <td>15</td>\n",
       "    </tr>\n",
       "    <tr>\n",
       "      <th>stackx</th>\n",
       "      <td>14</td>\n",
       "      <td>14</td>\n",
       "    </tr>\n",
       "    <tr>\n",
       "      <th>steemit</th>\n",
       "      <td>14</td>\n",
       "      <td>15</td>\n",
       "    </tr>\n",
       "  </tbody>\n",
       "</table>\n",
       "</div>"
      ],
      "text/plain": [
       "classed     Cyber  NonCyber\n",
       "source                     \n",
       "bbc            15        15\n",
       "facebook       15        13\n",
       "hackernews     14         0\n",
       "linkedin       15        14\n",
       "quora          15        15\n",
       "reddit         15        15\n",
       "stackx         14        14\n",
       "steemit        14        15"
      ]
     },
     "execution_count": 11,
     "metadata": {},
     "output_type": "execute_result"
    }
   ],
   "source": [
    "pd.crosstab(data.source, data.classed)"
   ]
  },
  {
   "cell_type": "code",
   "execution_count": 12,
   "metadata": {
    "collapsed": true
   },
   "outputs": [],
   "source": [
    "#read in scores\n",
    "apmis =  pd.read_csv(\"../../BuildingTheLexicon/Analysis/absapmis.csv\")\n",
    "tfidf = pd.read_csv(\"../../BuildingTheLexicon/Analysis/tfidf_scores.csv\")\n",
    "fdr = pd.read_csv(\"../../BuildingTheLexicon/Analysis/frequency_degree_ratio.csv\")"
   ]
  },
  {
   "cell_type": "code",
   "execution_count": 13,
   "metadata": {
    "collapsed": true
   },
   "outputs": [],
   "source": [
    "top_apmis = apmis.head(420)\n",
    "top_tfidf = tfidf.head(420)\n",
    "top_fdr = fdr.head(420)"
   ]
  },
  {
   "cell_type": "code",
   "execution_count": 14,
   "metadata": {
    "collapsed": true
   },
   "outputs": [],
   "source": [
    "terms = list(set(list(top_apmis.terms)+list(top_tfidf.terms)+list(top_fdr.terms)))"
   ]
  },
  {
   "cell_type": "code",
   "execution_count": 15,
   "metadata": {},
   "outputs": [
    {
     "data": {
      "text/html": [
       "<div>\n",
       "<style>\n",
       "    .dataframe thead tr:only-child th {\n",
       "        text-align: right;\n",
       "    }\n",
       "\n",
       "    .dataframe thead th {\n",
       "        text-align: left;\n",
       "    }\n",
       "\n",
       "    .dataframe tbody tr th {\n",
       "        vertical-align: top;\n",
       "    }\n",
       "</style>\n",
       "<table border=\"1\" class=\"dataframe\">\n",
       "  <thead>\n",
       "    <tr style=\"text-align: right;\">\n",
       "      <th></th>\n",
       "      <th>terms</th>\n",
       "      <th>apmis</th>\n",
       "      <th>scaled</th>\n",
       "    </tr>\n",
       "    <tr>\n",
       "      <th>terms</th>\n",
       "      <th></th>\n",
       "      <th></th>\n",
       "      <th></th>\n",
       "    </tr>\n",
       "  </thead>\n",
       "  <tbody>\n",
       "    <tr>\n",
       "      <th>prize</th>\n",
       "      <td>prize</td>\n",
       "      <td>-1555.033814</td>\n",
       "      <td>93.995158</td>\n",
       "    </tr>\n",
       "    <tr>\n",
       "      <th>enter</th>\n",
       "      <td>enter</td>\n",
       "      <td>-1397.430351</td>\n",
       "      <td>84.531320</td>\n",
       "    </tr>\n",
       "    <tr>\n",
       "      <th>ticket</th>\n",
       "      <td>ticket</td>\n",
       "      <td>-1362.706916</td>\n",
       "      <td>82.446233</td>\n",
       "    </tr>\n",
       "    <tr>\n",
       "      <th>http</th>\n",
       "      <td>http</td>\n",
       "      <td>-1198.492768</td>\n",
       "      <td>72.585433</td>\n",
       "    </tr>\n",
       "    <tr>\n",
       "      <th>retweet</th>\n",
       "      <td>retweet</td>\n",
       "      <td>-1164.016590</td>\n",
       "      <td>70.515193</td>\n",
       "    </tr>\n",
       "  </tbody>\n",
       "</table>\n",
       "</div>"
      ],
      "text/plain": [
       "           terms        apmis     scaled\n",
       "terms                                   \n",
       "prize      prize -1555.033814  93.995158\n",
       "enter      enter -1397.430351  84.531320\n",
       "ticket    ticket -1362.706916  82.446233\n",
       "http        http -1198.492768  72.585433\n",
       "retweet  retweet -1164.016590  70.515193"
      ]
     },
     "execution_count": 15,
     "metadata": {},
     "output_type": "execute_result"
    }
   ],
   "source": [
    "top_terms = apmis.loc[apmis['terms'].isin(terms)]\n",
    "top_terms = top_terms[['terms', 'apmis']]\n",
    "\n",
    "top_terms['terms'] = [stemmer.stem(i) for i in top_terms['terms']]\n",
    "top_terms[\"scaled\"] = rescale_0_100(top_terms.apmis)\n",
    "top_terms.index = top_terms.terms\n",
    "top_terms.head()"
   ]
  },
  {
   "cell_type": "code",
   "execution_count": 16,
   "metadata": {},
   "outputs": [
    {
     "data": {
      "text/plain": [
       "(754, 3)"
      ]
     },
     "execution_count": 16,
     "metadata": {},
     "output_type": "execute_result"
    }
   ],
   "source": [
    "top_terms.shape"
   ]
  },
  {
   "cell_type": "code",
   "execution_count": 17,
   "metadata": {
    "collapsed": true
   },
   "outputs": [],
   "source": [
    "applied = []\n",
    "for txt in text:\n",
    "    applied.append(CyberRelatedness(txt, top_terms))"
   ]
  },
  {
   "cell_type": "code",
   "execution_count": 18,
   "metadata": {
    "collapsed": true
   },
   "outputs": [],
   "source": [
    "md=top_terms.scaled.mean()"
   ]
  },
  {
   "cell_type": "code",
   "execution_count": 90,
   "metadata": {
    "collapsed": true
   },
   "outputs": [],
   "source": [
    "data['scaled'] = applied\n",
    "data['classified'] = [\"Cyber\" if i>19 else \"NonCyber\" for i in applied]"
   ]
  },
  {
   "cell_type": "code",
   "execution_count": 91,
   "metadata": {},
   "outputs": [
    {
     "data": {
      "text/plain": [
       "17.96399103847172"
      ]
     },
     "execution_count": 91,
     "metadata": {},
     "output_type": "execute_result"
    }
   ],
   "source": [
    "md"
   ]
  },
  {
   "cell_type": "code",
   "execution_count": 92,
   "metadata": {},
   "outputs": [],
   "source": [
    "data.to_csv(\"data.csv\")"
   ]
  },
  {
   "cell_type": "code",
   "execution_count": 93,
   "metadata": {
    "collapsed": true
   },
   "outputs": [],
   "source": [
    "conf_tab=pd.crosstab( data.classified, data.classed)"
   ]
  },
  {
   "cell_type": "code",
   "execution_count": 94,
   "metadata": {},
   "outputs": [
    {
     "data": {
      "text/html": [
       "<div>\n",
       "<style>\n",
       "    .dataframe thead tr:only-child th {\n",
       "        text-align: right;\n",
       "    }\n",
       "\n",
       "    .dataframe thead th {\n",
       "        text-align: left;\n",
       "    }\n",
       "\n",
       "    .dataframe tbody tr th {\n",
       "        vertical-align: top;\n",
       "    }\n",
       "</style>\n",
       "<table border=\"1\" class=\"dataframe\">\n",
       "  <thead>\n",
       "    <tr style=\"text-align: right;\">\n",
       "      <th>classed</th>\n",
       "      <th>Cyber</th>\n",
       "      <th>NonCyber</th>\n",
       "    </tr>\n",
       "    <tr>\n",
       "      <th>classified</th>\n",
       "      <th></th>\n",
       "      <th></th>\n",
       "    </tr>\n",
       "  </thead>\n",
       "  <tbody>\n",
       "    <tr>\n",
       "      <th>Cyber</th>\n",
       "      <td>91</td>\n",
       "      <td>25</td>\n",
       "    </tr>\n",
       "    <tr>\n",
       "      <th>NonCyber</th>\n",
       "      <td>26</td>\n",
       "      <td>76</td>\n",
       "    </tr>\n",
       "  </tbody>\n",
       "</table>\n",
       "</div>"
      ],
      "text/plain": [
       "classed     Cyber  NonCyber\n",
       "classified                 \n",
       "Cyber          91        25\n",
       "NonCyber       26        76"
      ]
     },
     "execution_count": 94,
     "metadata": {},
     "output_type": "execute_result"
    }
   ],
   "source": [
    "conf_tab"
   ]
  },
  {
   "cell_type": "code",
   "execution_count": 95,
   "metadata": {
    "collapsed": true
   },
   "outputs": [],
   "source": [
    "tp = conf_tab.iloc[0,0]\n",
    "fp = conf_tab.iloc[1,0]\n",
    "fn = conf_tab.iloc[0,1]\n",
    "tn = conf_tab.iloc[1,1]"
   ]
  },
  {
   "cell_type": "code",
   "execution_count": 96,
   "metadata": {},
   "outputs": [
    {
     "data": {
      "text/plain": [
       "23.394495412844037"
      ]
     },
     "execution_count": 96,
     "metadata": {},
     "output_type": "execute_result"
    }
   ],
   "source": [
    "error_rate = (fp+fn)/(fp+fn+tp+tn)\n",
    "error_rate*100"
   ]
  },
  {
   "cell_type": "code",
   "execution_count": 97,
   "metadata": {},
   "outputs": [
    {
     "data": {
      "text/plain": [
       "76.60550458715596"
      ]
     },
     "execution_count": 97,
     "metadata": {},
     "output_type": "execute_result"
    }
   ],
   "source": [
    "accuracy = (tp+tn)/(fp+fn+tp+tn)\n",
    "accuracy*100"
   ]
  },
  {
   "cell_type": "code",
   "execution_count": 98,
   "metadata": {},
   "outputs": [
    {
     "data": {
      "text/plain": [
       "78.44827586206897"
      ]
     },
     "execution_count": 98,
     "metadata": {},
     "output_type": "execute_result"
    }
   ],
   "source": [
    "sensitivity = (tp)/(fn+tp)\n",
    "sensitivity*100"
   ]
  },
  {
   "cell_type": "code",
   "execution_count": 79,
   "metadata": {},
   "outputs": [
    {
     "data": {
      "text/plain": [
       "74.50980392156863"
      ]
     },
     "execution_count": 79,
     "metadata": {},
     "output_type": "execute_result"
    }
   ],
   "source": [
    "specificity = (tn)/(tn+fp)\n",
    "specificity*100"
   ]
  },
  {
   "cell_type": "code",
   "execution_count": 80,
   "metadata": {},
   "outputs": [
    {
     "data": {
      "text/plain": [
       "77.77777777777779"
      ]
     },
     "execution_count": 80,
     "metadata": {},
     "output_type": "execute_result"
    }
   ],
   "source": [
    "precision = (tp)/(tp+fp)\n",
    "precision*100"
   ]
  },
  {
   "cell_type": "code",
   "execution_count": 81,
   "metadata": {},
   "outputs": [
    {
     "data": {
      "text/plain": [
       "25.49019607843137"
      ]
     },
     "execution_count": 81,
     "metadata": {},
     "output_type": "execute_result"
    }
   ],
   "source": [
    "fpr = 1-specificity\n",
    "fpr*100"
   ]
  },
  {
   "cell_type": "code",
   "execution_count": null,
   "metadata": {
    "collapsed": true
   },
   "outputs": [],
   "source": []
  },
  {
   "cell_type": "code",
   "execution_count": null,
   "metadata": {
    "collapsed": true
   },
   "outputs": [],
   "source": []
  }
 ],
 "metadata": {
  "kernelspec": {
   "display_name": "Python 3",
   "language": "python",
   "name": "python3"
  },
  "language_info": {
   "codemirror_mode": {
    "name": "ipython",
    "version": 3
   },
   "file_extension": ".py",
   "mimetype": "text/x-python",
   "name": "python",
   "nbconvert_exporter": "python",
   "pygments_lexer": "ipython3",
   "version": "3.7.0"
  }
 },
 "nbformat": 4,
 "nbformat_minor": 2
}
